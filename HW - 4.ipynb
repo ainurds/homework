{
 "cells": [
  {
   "cell_type": "code",
   "execution_count": 1,
   "metadata": {},
   "outputs": [],
   "source": [
    "from datetime import timedelta, datetime\n"
   ]
  },
  {
   "cell_type": "code",
   "execution_count": 2,
   "metadata": {},
   "outputs": [],
   "source": [
    "def list_of_days (start_date, end_date):\n",
    "    current_date = start_date\n",
    "    \n",
    "    current_date_dt = datetime.strptime(current_date, '%Y-%m-%d')\n",
    "    end_date_dt = datetime.strptime(end_date, '%Y-%m-%d')\n",
    "    days_list = []\n",
    "    if(end_date_dt<current_date_dt):\n",
    "        return days_list\n",
    "    \n",
    "    else:\n",
    "        while current_date_dt<=end_date_dt:\n",
    "            days_list.append(current_date[8:10])\n",
    "            current_date_dt+=timedelta(days=1)\n",
    "            current_date = current_date_dt.strftime('%Y-%m-%d')\n",
    "        \n",
    "    return days_list"
   ]
  },
  {
   "cell_type": "code",
   "execution_count": 3,
   "metadata": {},
   "outputs": [
    {
     "data": {
      "text/plain": [
       "['29', '30', '31', '01', '02', '03']"
      ]
     },
     "execution_count": 3,
     "metadata": {},
     "output_type": "execute_result"
    }
   ],
   "source": [
    "list_of_days('2017-12-29', '2018-01-03')"
   ]
  },
  {
   "cell_type": "code",
   "execution_count": 4,
   "metadata": {},
   "outputs": [
    {
     "data": {
      "text/plain": [
       "[]"
      ]
     },
     "execution_count": 4,
     "metadata": {},
     "output_type": "execute_result"
    }
   ],
   "source": [
    "list_of_days('2017-12-29', '2017-01-03')"
   ]
  },
  {
   "cell_type": "code",
   "execution_count": 5,
   "metadata": {},
   "outputs": [],
   "source": [
    "def if_data_correct ():\n",
    "    stream = ['2018-04-02', '2018-03-02', '2018-19-02']\n",
    "    for elements in stream:\n",
    "        try:\n",
    "            date_datetime = datetime.strptime(elements, '%d.%m.%Y %H:%M')\n",
    "            date_datetime_dt = 'True'\n",
    "        except ValueError:\n",
    "            try:\n",
    "                date_datetime = datetime.strptime(elements, '%Y-%m-%d')\n",
    "                date_datetime_dt = 'True'\n",
    "            except:\n",
    "                date_datetime_dt = 'False'\n",
    "        print(date_datetime_dt)"
   ]
  },
  {
   "cell_type": "code",
   "execution_count": 6,
   "metadata": {},
   "outputs": [
    {
     "name": "stdout",
     "output_type": "stream",
     "text": [
      "True\n",
      "True\n",
      "False\n"
     ]
    }
   ],
   "source": [
    "if_data_correct ()"
   ]
  },
  {
   "cell_type": "code",
   "execution_count": 7,
   "metadata": {},
   "outputs": [],
   "source": [
    "def list_with_days (current_date):\n",
    "    new_list = []\n",
    "    current_day = datetime.strptime(current_date, '%Y-%m-%d')\n",
    "    first_day_of_this_month_var = datetime(year=(current_day.year + int(current_day.month % 12 == 0)), month=(current_day.month) % 12, day=1) - timedelta(days=1)\n",
    "    first_day_of_this_month = first_day_of_this_month_var+timedelta(days=1)\n",
    "    first_day_of_last_month_var = datetime(year=(current_day.year + int(current_day.month % 12 == 0)), month=(current_day.month-1) % 12, day=1) - timedelta(days=1)\n",
    "    first_day_of_last_month = first_day_of_last_month_var + timedelta(days=1)\n",
    "    last_day_of_last_month = datetime(year=(current_day.year + int(current_day.month % 12 == 0)), month=(current_day.month) % 12, day=1) - timedelta(days=1)\n",
    "    if current_day.day>=2:\n",
    "        while(current_day >= first_day_of_this_month):\n",
    "            new_list.append(current_day.strftime('%Y-%m-%d'))\n",
    "            current_day=current_day+timedelta(days=-1)\n",
    "    elif current_day.day == 1:\n",
    "        while(last_day_of_last_month >= first_day_of_last_month):\n",
    "            new_list.append(last_day_of_last_month.strftime('%Y-%m-%d'))\n",
    "            last_day_of_last_month=last_day_of_last_month+timedelta(days=-1)\n",
    "    return new_list"
   ]
  },
  {
   "cell_type": "code",
   "execution_count": 8,
   "metadata": {},
   "outputs": [
    {
     "data": {
      "text/plain": [
       "['2018-07-07',\n",
       " '2018-07-06',\n",
       " '2018-07-05',\n",
       " '2018-07-04',\n",
       " '2018-07-03',\n",
       " '2018-07-02',\n",
       " '2018-07-01']"
      ]
     },
     "execution_count": 8,
     "metadata": {},
     "output_type": "execute_result"
    }
   ],
   "source": [
    "list_with_days ('2018-07-07')"
   ]
  },
  {
   "cell_type": "code",
   "execution_count": 9,
   "metadata": {},
   "outputs": [
    {
     "data": {
      "text/plain": [
       "['2018-06-30',\n",
       " '2018-06-29',\n",
       " '2018-06-28',\n",
       " '2018-06-27',\n",
       " '2018-06-26',\n",
       " '2018-06-25',\n",
       " '2018-06-24',\n",
       " '2018-06-23',\n",
       " '2018-06-22',\n",
       " '2018-06-21',\n",
       " '2018-06-20',\n",
       " '2018-06-19',\n",
       " '2018-06-18',\n",
       " '2018-06-17',\n",
       " '2018-06-16',\n",
       " '2018-06-15',\n",
       " '2018-06-14',\n",
       " '2018-06-13',\n",
       " '2018-06-12',\n",
       " '2018-06-11',\n",
       " '2018-06-10',\n",
       " '2018-06-09',\n",
       " '2018-06-08',\n",
       " '2018-06-07',\n",
       " '2018-06-06',\n",
       " '2018-06-05',\n",
       " '2018-06-04',\n",
       " '2018-06-03',\n",
       " '2018-06-02',\n",
       " '2018-06-01']"
      ]
     },
     "execution_count": 9,
     "metadata": {},
     "output_type": "execute_result"
    }
   ],
   "source": [
    "list_with_days ('2018-07-01')"
   ]
  },
  {
   "cell_type": "code",
   "execution_count": 10,
   "metadata": {},
   "outputs": [],
   "source": [
    "def time_by_phrase (phrase):\n",
    "    if phrase == 'today':\n",
    "        today = datetime.now()\n",
    "        exact_date = today.strftime('%Y-%m-%d')\n",
    "    elif phrase == 'Last Monday':\n",
    "        today = datetime.now()\n",
    "        today = today + timedelta(days=-7)\n",
    "        exact_date = today.strftime('%Y-%m-%d')\n",
    "    elif phrase == 'Last day':\n",
    "        today = datetime.now()\n",
    "        last_day = datetime(year=(today.year + int(today.month % 12 == 0)), month=(today.month + 1) % 12, day=1) - timedelta(days=1)\n",
    "        exact_date = last_day.strftime('%Y-%m-%d')\n",
    "    return exact_date"
   ]
  },
  {
   "cell_type": "code",
   "execution_count": 11,
   "metadata": {},
   "outputs": [
    {
     "data": {
      "text/plain": [
       "'2018-09-18'"
      ]
     },
     "execution_count": 11,
     "metadata": {},
     "output_type": "execute_result"
    }
   ],
   "source": [
    "time_by_phrase ('today')"
   ]
  },
  {
   "cell_type": "code",
   "execution_count": 12,
   "metadata": {},
   "outputs": [
    {
     "data": {
      "text/plain": [
       "'2018-09-11'"
      ]
     },
     "execution_count": 12,
     "metadata": {},
     "output_type": "execute_result"
    }
   ],
   "source": [
    "time_by_phrase ('Last Monday')"
   ]
  },
  {
   "cell_type": "code",
   "execution_count": 13,
   "metadata": {},
   "outputs": [
    {
     "data": {
      "text/plain": [
       "'2018-09-30'"
      ]
     },
     "execution_count": 13,
     "metadata": {},
     "output_type": "execute_result"
    }
   ],
   "source": [
    "time_by_phrase ('Last day')"
   ]
  },
  {
   "cell_type": "code",
   "execution_count": 14,
   "metadata": {},
   "outputs": [],
   "source": [
    "start_date = '2018-01-02'\n",
    "end_date = '2018-01-23'\n",
    "\n",
    "start_date_dt = datetime.strptime(start_date, '%Y-%m-%d')\n",
    "end_date_dt = datetime.strptime(end_date, '%Y-%m-%d')\n",
    "\n",
    "new_list = []\n",
    "while end_date_dt>=start_date_dt:\n",
    "    new_list.append(start_date_dt.strftime('%Y-%m-%d'))\n",
    "    start_date_dt+=timedelta(days=1)"
   ]
  },
  {
   "cell_type": "code",
   "execution_count": 15,
   "metadata": {},
   "outputs": [],
   "source": [
    "List_days_of_new_list = []\n",
    "for i in new_list:\n",
    "    days_new_list = datetime.strptime(i, '%Y-%m-%d')\n",
    "    List_days_of_new_list.append(days_new_list.day)"
   ]
  },
  {
   "cell_type": "code",
   "execution_count": 16,
   "metadata": {},
   "outputs": [
    {
     "data": {
      "text/plain": [
       "['2018-01-08',\n",
       " '2018-01-09',\n",
       " '2018-01-10',\n",
       " '2018-01-11',\n",
       " '2018-01-12',\n",
       " '2018-01-13',\n",
       " '2018-01-14',\n",
       " '2018-01-15',\n",
       " '2018-01-16',\n",
       " '2018-01-17',\n",
       " '2018-01-18',\n",
       " '2018-01-19',\n",
       " '2018-01-20',\n",
       " '2018-01-21']"
      ]
     },
     "execution_count": 16,
     "metadata": {},
     "output_type": "execute_result"
    }
   ],
   "source": [
    "list_of_days_for_week = []\n",
    "for i in new_list:\n",
    "    days_new_list = datetime.strptime(i, '%Y-%m-%d')\n",
    "    if days_new_list.weekday()== 0:\n",
    "        m = days_new_list + timedelta(days=7)\n",
    "        if m.day in List_days_of_new_list:\n",
    "            while m > days_new_list:\n",
    "                list_of_days_for_week.append(days_new_list.strftime('%Y-%m-%d'))\n",
    "                days_new_list+=timedelta(days = 1)\n",
    "                \n",
    "list_of_days_for_week"
   ]
  },
  {
   "cell_type": "code",
   "execution_count": null,
   "metadata": {},
   "outputs": [],
   "source": []
  }
 ],
 "metadata": {
  "kernelspec": {
   "display_name": "Python 3",
   "language": "python",
   "name": "python3"
  },
  "language_info": {
   "codemirror_mode": {
    "name": "ipython",
    "version": 3
   },
   "file_extension": ".py",
   "mimetype": "text/x-python",
   "name": "python",
   "nbconvert_exporter": "python",
   "pygments_lexer": "ipython3",
   "version": "3.6.5"
  }
 },
 "nbformat": 4,
 "nbformat_minor": 2
}
